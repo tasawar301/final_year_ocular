{
  "nbformat": 4,
  "nbformat_minor": 0,
  "metadata": {
    "colab": {
      "provenance": [],
      "authorship_tag": "ABX9TyMWqyjV1UQrEsM7+mngi8sa",
      "include_colab_link": true
    },
    "kernelspec": {
      "name": "python3",
      "display_name": "Python 3"
    },
    "language_info": {
      "name": "python"
    }
  },
  "cells": [
    {
      "cell_type": "markdown",
      "metadata": {
        "id": "view-in-github",
        "colab_type": "text"
      },
      "source": [
        "<a href=\"https://colab.research.google.com/github/tasawar301/final_year_ocular/blob/main/ocular.ipynb\" target=\"_parent\"><img src=\"https://colab.research.google.com/assets/colab-badge.svg\" alt=\"Open In Colab\"/></a>"
      ]
    },
    {
      "cell_type": "code",
      "execution_count": 2,
      "metadata": {
        "id": "-IRYc49p8vK8"
      },
      "outputs": [],
      "source": [
        "import pandas as pd\n",
        "import numpy as np\n",
        "import matplotlib.pyplot as plt\n",
        "import seaborn as sns\n",
        "import warnings\n",
        "warnings.filterwarnings('ignore')\n",
        "\n",
        "import plotly.express as px\n",
        "import plotly.graph_objects as go\n",
        "from plotly.subplots import make_subplots\n",
        "\n",
        "import tensorflow as tf\n",
        "from tensorflow import keras\n",
        "from tensorflow.keras import layers"
      ]
    },
    {
      "cell_type": "code",
      "source": [
        "url = 'https://raw.githubusercontent.com/tasawar301/final_year_ocular/main/dataset/ODIR-5K/ODIR-5K/data.xlsx'\n",
        "path = pd.read_excel(url, engine='openpyxl')\n",
        "print(\"Path to dataset files:\", path)"
      ],
      "metadata": {
        "colab": {
          "base_uri": "https://localhost:8080/"
        },
        "id": "6Dz4XI669fIn",
        "outputId": "16e95f58-757d-4cc9-a2ed-6b043c217284"
      },
      "execution_count": 4,
      "outputs": [
        {
          "output_type": "stream",
          "name": "stdout",
          "text": [
            "Path to dataset files:         ID  Patient Age Patient Sex    Left-Fundus    Right-Fundus  \\\n",
            "0        0           69      Female     0_left.jpg     0_right.jpg   \n",
            "1        1           57        Male     1_left.jpg     1_right.jpg   \n",
            "2        2           42        Male     2_left.jpg     2_right.jpg   \n",
            "3        3           66        Male     3_left.jpg     3_right.jpg   \n",
            "4        4           53        Male     4_left.jpg     4_right.jpg   \n",
            "...    ...          ...         ...            ...             ...   \n",
            "3495  4686           63        Male  4686_left.jpg  4686_right.jpg   \n",
            "3496  4688           42        Male  4688_left.jpg  4688_right.jpg   \n",
            "3497  4689           54        Male  4689_left.jpg  4689_right.jpg   \n",
            "3498  4690           57        Male  4690_left.jpg  4690_right.jpg   \n",
            "3499  4784           58        Male  4784_left.jpg  4784_right.jpg   \n",
            "\n",
            "                               Left-Diagnostic Keywords  \\\n",
            "0                                              cataract   \n",
            "1                                         normal fundus   \n",
            "2     laser spot，moderate non proliferative retinopathy   \n",
            "3                                         normal fundus   \n",
            "4                           macular epiretinal membrane   \n",
            "...                                                 ...   \n",
            "3495                severe nonproliferative retinopathy   \n",
            "3496             moderate non proliferative retinopathy   \n",
            "3497                  mild nonproliferative retinopathy   \n",
            "3498                  mild nonproliferative retinopathy   \n",
            "3499  hypertensive retinopathy，age-related macular d...   \n",
            "\n",
            "                              Right-Diagnostic Keywords  N  D  G  C  A  H  M  \\\n",
            "0                                         normal fundus  0  0  0  1  0  0  0   \n",
            "1                                         normal fundus  1  0  0  0  0  0  0   \n",
            "2                moderate non proliferative retinopathy  0  1  0  0  0  0  0   \n",
            "3                       branch retinal artery occlusion  0  0  0  0  0  0  0   \n",
            "4                     mild nonproliferative retinopathy  0  1  0  0  0  0  0   \n",
            "...                                                 ... .. .. .. .. .. .. ..   \n",
            "3495                 proliferative diabetic retinopathy  0  1  0  0  0  0  0   \n",
            "3496             moderate non proliferative retinopathy  0  1  0  0  0  0  0   \n",
            "3497                                      normal fundus  0  1  0  0  0  0  0   \n",
            "3498                  mild nonproliferative retinopathy  0  1  0  0  0  0  0   \n",
            "3499  hypertensive retinopathy，age-related macular d...  0  0  0  0  1  1  0   \n",
            "\n",
            "      O  \n",
            "0     0  \n",
            "1     0  \n",
            "2     1  \n",
            "3     1  \n",
            "4     1  \n",
            "...  ..  \n",
            "3495  0  \n",
            "3496  0  \n",
            "3497  0  \n",
            "3498  0  \n",
            "3499  0  \n",
            "\n",
            "[3500 rows x 15 columns]\n"
          ]
        }
      ]
    }
  ]
}